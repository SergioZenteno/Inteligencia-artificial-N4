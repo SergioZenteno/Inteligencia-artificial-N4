{
  "nbformat": 4,
  "nbformat_minor": 0,
  "metadata": {
    "colab": {
      "provenance": [],
      "authorship_tag": "ABX9TyPVfPUNx2chEAGFJ1YMXFFV",
      "include_colab_link": true
    },
    "kernelspec": {
      "name": "python3",
      "display_name": "Python 3"
    },
    "language_info": {
      "name": "python"
    }
  },
  "cells": [
    {
      "cell_type": "markdown",
      "metadata": {
        "id": "view-in-github",
        "colab_type": "text"
      },
      "source": [
        "<a href=\"https://colab.research.google.com/github/SergioZenteno/Inteligencia-artificial-N4/blob/main/EjercicioPyton_1.ipynb\" target=\"_parent\"><img src=\"https://colab.research.google.com/assets/colab-badge.svg\" alt=\"Open In Colab\"/></a>"
      ]
    },
    {
      "cell_type": "markdown",
      "source": [
        "1.- Desarrolla un algoritmo que le pida al usuario por su nombre y que lo salude con su nombre, excepto si se llama “Ana”, “Juan”, y “Pedro”.\n",
        "\n",
        "2.- Desarrolla un algoritmo que por medio de una función, le pida al usuario una lista de N elementos y como resultado invierta el sentido de la lista.\n",
        "\n",
        "3.- Desarrolla un algoritmo que le pregunte al usuario cuántos números de la serie de Fibonacci quiere generar y que al final los imprima.\n",
        "\n",
        "4.- Juego de adivinar el número: Crea un programa que genere un número aleatorio entre 1 y 100, y luego le pida al usuario que adivine el número. El programa debe proporcionar pistas al usuario si el número es mayor o menor que el número objetivo, y seguir solicitando un nuevo intento hasta que el usuario adivine correctamente.\n",
        "\n",
        "5.- Ejercicio de cálculo de números primos en un rango dado: Escribe un programa que solicite al usuario un rango de números y muestre todos los números primos dentro de ese rango.\n",
        "\n",
        "6.- Ejercicio de implementación de una calculadora básica utilizando funciones:\n",
        "Escribe un programa que solicite al usuario dos números y realice operaciones básicas como suma, resta, multiplicación y división utilizando funciones separadas para cada operación."
      ],
      "metadata": {
        "id": "0hcKmpxnwDjT"
      }
    },
    {
      "cell_type": "code",
      "source": [
        "nombre = input(\"¿Cómo te llamas? \")\n",
        "if nombre not in [\"Ana\", \"Juan\", \"Pedro\"]:\n",
        "    print(\"Hola \" + nombre)"
      ],
      "metadata": {
        "id": "Q_RSyEI91pch",
        "colab": {
          "base_uri": "https://localhost:8080/"
        },
        "outputId": "52d95269-3f1c-45e4-b0a2-93142f971162"
      },
      "execution_count": null,
      "outputs": [
        {
          "name": "stdout",
          "output_type": "stream",
          "text": [
            "¿Cómo te llamas? Ana\n"
          ]
        }
      ]
    },
    {
      "cell_type": "code",
      "source": [
        "def reverse_list(lista1):\n",
        "    lista1.reverse()\n",
        "    return lista1\n",
        "\n",
        "\n",
        "lista1 = []\n",
        "n = int(input(\"¿Cuántos elementos quieres añadir a la lista? \"))\n",
        "for i in range(n):\n",
        "    lista1.append(input(\"Introduce el elemento \" + str(i + 1) + \": \"))\n",
        "reversed_list = reverse_list(lista1)\n",
        "\n",
        "\n",
        "print(reversed_list)"
      ],
      "metadata": {
        "colab": {
          "base_uri": "https://localhost:8080/"
        },
        "id": "JZbYwlvjYxNB",
        "outputId": "90a26d71-3585-49eb-f506-8df68ef3a818"
      },
      "execution_count": null,
      "outputs": [
        {
          "output_type": "stream",
          "name": "stdout",
          "text": [
            "¿Cuántos elementos quieres añadir a la lista? 2\n",
            "Introduce el elemento 1: luis\n",
            "Introduce el elemento 2: sergio\n",
            "['sergio', 'luis']\n"
          ]
        }
      ]
    },
    {
      "cell_type": "code",
      "source": [
        "def fibonacci(n):\n",
        "    fib_sequence = [0, 1]\n",
        "    for i in range(2, n + 1):\n",
        "        sig_num = fib_sequence[i - 1] + fib_sequence[i - 2]\n",
        "        fib_sequence.append(sig_num)\n",
        "    return fib_sequence\n",
        "\n",
        "n = int(input(\"¿Cuántos números de la serie de Fibonacci quieres generar? \"))\n",
        "\n",
        "\n",
        "fib_sequence = fibonacci(n)\n",
        "\n",
        "print(fib_sequence)"
      ],
      "metadata": {
        "colab": {
          "base_uri": "https://localhost:8080/"
        },
        "id": "4h7FZKJNZUBX",
        "outputId": "09369b09-00ca-40b6-a4a1-43fade2e5ad9"
      },
      "execution_count": null,
      "outputs": [
        {
          "output_type": "stream",
          "name": "stdout",
          "text": [
            "¿Cuántos números de la serie de Fibonacci quieres generar? 9\n",
            "[0, 1, 1, 2, 3, 5, 8, 13, 21, 34]\n"
          ]
        }
      ]
    },
    {
      "cell_type": "code",
      "source": [
        "import random\n",
        "\n",
        "target_number = random.randint(1, 100)\n",
        "\n",
        "\n",
        "guess = int(input(\"Adivina el número: \"))\n",
        "\n",
        "\n",
        "while guess != target_number:\n",
        "\n",
        "    if guess > target_number:\n",
        "        print(\"El número es menor\")\n",
        "    else:\n",
        "        print(\"El número es mayor\")\n",
        "\n",
        "\n",
        "    guess = int(input(\"Inténtalo de nuevo: \"))\n",
        "\n",
        "{}\n",
        "print(\"¡Adivinaste!\")"
      ],
      "metadata": {
        "colab": {
          "base_uri": "https://localhost:8080/"
        },
        "id": "k-HsnPg-ZySo",
        "outputId": "a1da4af2-a39a-4854-a2bc-36b08a583787"
      },
      "execution_count": null,
      "outputs": [
        {
          "output_type": "stream",
          "name": "stdout",
          "text": [
            "Adivina el número: 30\n",
            "El número es mayor\n",
            "Inténtalo de nuevo: 40\n",
            "El número es menor\n",
            "Inténtalo de nuevo: 35\n",
            "El número es mayor\n",
            "Inténtalo de nuevo: 38\n",
            "El número es menor\n",
            "Inténtalo de nuevo: 37\n",
            "¡Adivinaste!\n"
          ]
        }
      ]
    },
    {
      "cell_type": "code",
      "source": [
        "def is_prime(num):\n",
        "\n",
        "    if num <= 1:\n",
        "        return False\n",
        "    for div in range(2, int(num**0.5) + 1):\n",
        "        if num % div == 0:\n",
        "            return False\n",
        "    return True\n",
        "\n",
        "\n",
        "inico = int(input(\"Introduce el número de inicio del rango: \"))\n",
        "end = int(input(\"Introduce el número de fin del rango: \"))\n",
        "\n",
        "\n",
        "print(\"Números primos en el rango:\", end =\" \")\n",
        "for num in range(inico, end + 1):\n",
        "    if is_prime(num):\n",
        "        print(num, end =\" \")"
      ],
      "metadata": {
        "colab": {
          "base_uri": "https://localhost:8080/"
        },
        "id": "x871hvUBadsd",
        "outputId": "c9cc2572-8ab5-437a-cbb9-b4070218b8bc"
      },
      "execution_count": null,
      "outputs": [
        {
          "output_type": "stream",
          "name": "stdout",
          "text": [
            "Introduce el número de inicio del rango: 2\n",
            "Introduce el número de fin del rango: 22\n",
            "Números primos en el rango: 2 3 5 7 11 13 17 19 "
          ]
        }
      ]
    },
    {
      "cell_type": "code",
      "source": [
        "def add(num1, num2):\n",
        "    return num1 + num2\n",
        "\n",
        "def subtract(num1, num2):\n",
        "    return num1 - num2\n",
        "\n",
        "def multiply(num1, num2):\n",
        "    return num1 * num2\n",
        "\n",
        "def divide(num1, num2):\n",
        "    return num1 / num2\n",
        "\n",
        "\n",
        "num1 = float(input(\"Introduce el primer número: \"))\n",
        "num2 = float(input(\"Introduce el segundo número: \"))\n",
        "\n",
        "\n",
        "operation = input(\"Introduce la operación que quieres realizar (+, -, *, /): \")\n",
        "\n",
        "\n",
        "if operation == \"+\":\n",
        "    result = add(num1, num2)\n",
        "elif operation == \"-\":\n",
        "    result = subtract(num1, num2)\n",
        "elif operation == \"*\":\n",
        "    result = multiply(num1, num2)\n",
        "elif operation == \"/\":\n",
        "    result = divide(num1, num2)\n",
        "else:\n",
        "    print(\"Operación inválida.\")\n",
        "\n",
        "\n",
        "print(\"Resultado:\", result)"
      ],
      "metadata": {
        "colab": {
          "base_uri": "https://localhost:8080/"
        },
        "id": "Ulqc6oNEa2IL",
        "outputId": "5874315f-8de5-4ac7-8ea7-a931f56c0ea8"
      },
      "execution_count": null,
      "outputs": [
        {
          "output_type": "stream",
          "name": "stdout",
          "text": [
            "Introduce el primer número: 7\n",
            "Introduce el segundo número: 1\n",
            "Introduce la operación que quieres realizar (+, -, *, /): /\n",
            "Resultado: 7.0\n"
          ]
        }
      ]
    }
  ]
}
