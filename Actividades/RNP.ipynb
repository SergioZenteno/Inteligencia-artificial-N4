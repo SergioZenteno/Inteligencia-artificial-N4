{
  "nbformat": 4,
  "nbformat_minor": 0,
  "metadata": {
    "colab": {
      "provenance": [],
      "authorship_tag": "ABX9TyMNQCZBVYqK1xk9xt3ef4G0",
      "include_colab_link": true
    },
    "kernelspec": {
      "name": "python3",
      "display_name": "Python 3"
    },
    "language_info": {
      "name": "python"
    }
  },
  "cells": [
    {
      "cell_type": "markdown",
      "metadata": {
        "id": "view-in-github",
        "colab_type": "text"
      },
      "source": [
        "<a href=\"https://colab.research.google.com/github/SergioZenteno/Inteligencia-artificial-N4/blob/main/Actividades/RNP.ipynb\" target=\"_parent\"><img src=\"https://colab.research.google.com/assets/colab-badge.svg\" alt=\"Open In Colab\"/></a>"
      ]
    },
    {
      "cell_type": "markdown",
      "source": [
        "# Actividad 5: Uso de software para búsqueda.\n",
        "Nombres: __ __ __ __ __ Matrícula:\n",
        "\n",
        "Fernando Puente Sosa 2012151\n",
        "\n",
        "Joaquin Alejandro Díaz Ibarra 2077836\n",
        "\n",
        "Pedro Bernardo Moreno Rentería 1997582\n",
        "\n",
        "Eduardo Cantú Lozano 2109600\n",
        "\n",
        "Luis Sergio Zenteno Moreno 2014200\n",
        "\n",
        "Hora de clase: Martes N4-N6\n",
        "\n",
        "Grupo: 006"
      ],
      "metadata": {
        "id": "34WogZgo3_yq"
      }
    },
    {
      "cell_type": "code",
      "source": [
        "# Librerías\n",
        "import tensorflow as tf\n",
        "from tensorflow.keras.datasets import mnist"
      ],
      "metadata": {
        "id": "qNrlwqH7zldN"
      },
      "execution_count": 1,
      "outputs": []
    },
    {
      "cell_type": "code",
      "source": [
        "# Cargar datos\n",
        "(train_data, train_labels), (test_data, test_labels) = mnist.load_data()"
      ],
      "metadata": {
        "id": "srnfWEW3znuS",
        "colab": {
          "base_uri": "https://localhost:8080/"
        },
        "outputId": "3c665e25-73cd-443d-dd32-0173ac4dec6d"
      },
      "execution_count": 2,
      "outputs": [
        {
          "output_type": "stream",
          "name": "stdout",
          "text": [
            "Downloading data from https://storage.googleapis.com/tensorflow/tf-keras-datasets/mnist.npz\n",
            "11490434/11490434 [==============================] - 1s 0us/step\n"
          ]
        }
      ]
    },
    {
      "cell_type": "code",
      "source": [
        "# Selección y entrenamiento del modelo\n",
        "# Definir la red neuronal\n",
        "model = tf.keras.models.Sequential([\n",
        "    tf.keras.layers.Flatten(input_shape=(28, 28)),  # Capa de entrada: aplanamos la imagen 28x28 a un vector de 784\n",
        "    tf.keras.layers.Dense(128, activation='relu'), # Capa oculta: 128 neuronas con función de activación ReLU\n",
        "    tf.keras.layers.Dense(10, activation='softmax') # Capa de salida: 10 neuronas para clasificar los dígitos del 0 al 9\n",
        "])"
      ],
      "metadata": {
        "id": "jOCBFIzazuMV"
      },
      "execution_count": 3,
      "outputs": []
    },
    {
      "cell_type": "code",
      "source": [
        "# Compilar el modelo\n",
        "model.compile(optimizer='adam',\n",
        "              loss='sparse_categorical_crossentropy', # Función de pérdida: entropía cruzada categórica\n",
        "              metrics=['accuracy']) # Métrica de evaluación: exactitud"
      ],
      "metadata": {
        "id": "81K_6-6rz2Cv"
      },
      "execution_count": 4,
      "outputs": []
    },
    {
      "cell_type": "code",
      "source": [
        "# Entrenar el modelo\n",
        "model.fit(train_data, train_labels, epochs=5) # Entrenar durante 5 épocas"
      ],
      "metadata": {
        "colab": {
          "base_uri": "https://localhost:8080/"
        },
        "id": "o_ktKZ88z9yQ",
        "outputId": "1b825dc4-96c5-4696-bc6b-81c9d377eb55"
      },
      "execution_count": 5,
      "outputs": [
        {
          "output_type": "stream",
          "name": "stdout",
          "text": [
            "Epoch 1/5\n",
            "1875/1875 [==============================] - 7s 4ms/step - loss: 2.2418 - accuracy: 0.8636\n",
            "Epoch 2/5\n",
            "1875/1875 [==============================] - 8s 4ms/step - loss: 0.3618 - accuracy: 0.9135\n",
            "Epoch 3/5\n",
            "1875/1875 [==============================] - 6s 3ms/step - loss: 0.2843 - accuracy: 0.9302\n",
            "Epoch 4/5\n",
            "1875/1875 [==============================] - 8s 4ms/step - loss: 0.2487 - accuracy: 0.9363\n",
            "Epoch 5/5\n",
            "1875/1875 [==============================] - 6s 3ms/step - loss: 0.2215 - accuracy: 0.9442\n"
          ]
        },
        {
          "output_type": "execute_result",
          "data": {
            "text/plain": [
              "<keras.src.callbacks.History at 0x7f7105789d20>"
            ]
          },
          "metadata": {},
          "execution_count": 5
        }
      ]
    },
    {
      "cell_type": "code",
      "source": [
        "# Prueba de modelo\n",
        "# Evaluación del modelo con los datos de prueba\n",
        "test_loss, test_acc = model.evaluate(test_data, test_labels)\n",
        "print(\"Exactitud del modelo en datos de prueba:\", test_acc)"
      ],
      "metadata": {
        "colab": {
          "base_uri": "https://localhost:8080/"
        },
        "id": "kVdZgmxj0Kg_",
        "outputId": "d78def39-813a-484f-c94d-3e3f5d55e4e0"
      },
      "execution_count": 6,
      "outputs": [
        {
          "output_type": "stream",
          "name": "stdout",
          "text": [
            "313/313 [==============================] - 1s 2ms/step - loss: 0.2908 - accuracy: 0.9390\n",
            "Exactitud del modelo en datos de prueba: 0.9390000104904175\n"
          ]
        }
      ]
    },
    {
      "cell_type": "code",
      "source": [
        "# Predicciones\n",
        "# Mostrar la comparación entre las predicciones y los valores reales\n",
        "predictions = model.predict(test_data[:5]) # Realizar predicciones para los primeros 5 datos de prueba\n",
        "for i in range(5):\n",
        "    print(\"Predicción:\", tf.argmax(predictions[i]).numpy(), \"Valor real:\", test_labels[i])"
      ],
      "metadata": {
        "colab": {
          "base_uri": "https://localhost:8080/"
        },
        "id": "2Qlt48p50NYu",
        "outputId": "d3966bea-cb10-43d4-9eab-c1922e4f6113"
      },
      "execution_count": 7,
      "outputs": [
        {
          "output_type": "stream",
          "name": "stdout",
          "text": [
            "1/1 [==============================] - 0s 84ms/step\n",
            "Predicción: 7 Valor real: 7\n",
            "Predicción: 2 Valor real: 2\n",
            "Predicción: 1 Valor real: 1\n",
            "Predicción: 0 Valor real: 0\n",
            "Predicción: 4 Valor real: 4\n"
          ]
        }
      ]
    }
  ]
}