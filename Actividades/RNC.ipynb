{
  "nbformat": 4,
  "nbformat_minor": 0,
  "metadata": {
    "colab": {
      "provenance": [],
      "authorship_tag": "ABX9TyMezOTf3AFdhWF4GjL+gsKz",
      "include_colab_link": true
    },
    "kernelspec": {
      "name": "python3",
      "display_name": "Python 3"
    },
    "language_info": {
      "name": "python"
    }
  },
  "cells": [
    {
      "cell_type": "markdown",
      "metadata": {
        "id": "view-in-github",
        "colab_type": "text"
      },
      "source": [
        "<a href=\"https://colab.research.google.com/github/SergioZenteno/Inteligencia-artificial-N4/blob/main/Actividades/RNC.ipynb\" target=\"_parent\"><img src=\"https://colab.research.google.com/assets/colab-badge.svg\" alt=\"Open In Colab\"/></a>"
      ]
    },
    {
      "cell_type": "markdown",
      "source": [
        "# Actividad 6: Redes neuronales.\n",
        "Nombres: __ __ __ __ __ Matrícula:\n",
        "\n",
        "Fernando Puente Sosa 2012151\n",
        "\n",
        "Joaquin Alejandro Díaz Ibarra 2077836\n",
        "\n",
        "Pedro Bernardo Moreno Rentería 1997582\n",
        "\n",
        "Eduardo Cantú Lozano 2109600\n",
        "\n",
        "Luis Sergio Zenteno Moreno 2014200\n",
        "\n",
        "Hora de clase: Martes N4-N6\n",
        "\n",
        "Grupo: 006"
      ],
      "metadata": {
        "id": "PzOq9OKtbYx-"
      }
    },
    {
      "cell_type": "code",
      "execution_count": null,
      "metadata": {
        "id": "1UIaaO8ZLXMU"
      },
      "outputs": [],
      "source": [
        "# Cargar librerías\n",
        "import tensorflow as tf\n",
        "from tensorflow.keras.datasets import mnist # Conjunto de datos MNIST\n",
        "from tensorflow.keras.models import Sequential # Modelo de red neuronal secuencial\n",
        "from tensorflow.keras.layers import Conv2D, MaxPooling2D, Flatten, Dense # Capas de la red neuronal convolucional\n",
        "import numpy as np"
      ]
    },
    {
      "cell_type": "code",
      "source": [
        "# Cargar datos\n",
        "(train_data, train_labels), (test_data, test_labels) = mnist.load_data()"
      ],
      "metadata": {
        "colab": {
          "base_uri": "https://localhost:8080/"
        },
        "id": "W5AhxeuLLh4h",
        "outputId": "e5c02ef4-ee75-4a8a-f1c8-37b5d2a5a6b8"
      },
      "execution_count": null,
      "outputs": [
        {
          "output_type": "stream",
          "name": "stdout",
          "text": [
            "Downloading data from https://storage.googleapis.com/tensorflow/tf-keras-datasets/mnist.npz\n",
            "11490434/11490434 [==============================] - 0s 0us/step\n"
          ]
        }
      ]
    },
    {
      "cell_type": "code",
      "source": [
        "# Preprocesamiento de datos\n",
        "# Normalizar los datos de píxeles entre 0 y 1\n",
        "train_data = train_data / 255.0\n",
        "test_data = test_data / 255.0"
      ],
      "metadata": {
        "id": "YXcB5QR4MNw0"
      },
      "execution_count": null,
      "outputs": []
    },
    {
      "cell_type": "code",
      "source": [
        "# Redimensionar los datos para que coincidan con el formato de entrada de la red neuronal convolucional\n",
        "train_data = np.expand_dims(train_data, axis=-1)\n",
        "test_data = np.expand_dims(test_data, axis=-1)"
      ],
      "metadata": {
        "id": "TlOozrgjMRhK"
      },
      "execution_count": null,
      "outputs": []
    },
    {
      "cell_type": "code",
      "source": [
        "# Convertir etiquetas a one-hot encoding\n",
        "train_labels = tf.keras.utils.to_categorical(train_labels, 10)\n",
        "test_labels = tf.keras.utils.to_categorical(test_labels, 10)"
      ],
      "metadata": {
        "id": "Oq5atDeLMXuH"
      },
      "execution_count": null,
      "outputs": []
    },
    {
      "cell_type": "code",
      "source": [
        "# Selección y entrenamiento del modelo\n",
        "model = Sequential([\n",
        "    Conv2D(32, (3, 3), activation='relu', input_shape=(28, 28, 1)),\n",
        "    MaxPooling2D((2, 2)),\n",
        "    Conv2D(64, (3, 3), activation='relu'),\n",
        "    MaxPooling2D((2, 2)),\n",
        "    Flatten(),\n",
        "    Dense(64, activation='relu'),\n",
        "    Dense(10, activation='softmax')\n",
        "])"
      ],
      "metadata": {
        "id": "PaQiYF6wMde2"
      },
      "execution_count": null,
      "outputs": []
    },
    {
      "cell_type": "code",
      "source": [
        "# Compilar el modelo\n",
        "model.compile(optimizer='adam',\n",
        "              loss='categorical_crossentropy',\n",
        "              metrics=['accuracy'])\n"
      ],
      "metadata": {
        "id": "TOL0IcfLMhmt"
      },
      "execution_count": null,
      "outputs": []
    },
    {
      "cell_type": "code",
      "source": [
        "# Entrenar el modelo\n",
        "model.fit(train_data, train_labels, epochs=6, batch_size=64, validation_split=0.2)\n"
      ],
      "metadata": {
        "colab": {
          "base_uri": "https://localhost:8080/"
        },
        "id": "AMSZpuWoMk4W",
        "outputId": "49460e89-0a3f-4b72-bc24-e2e33a1ab0c1"
      },
      "execution_count": null,
      "outputs": [
        {
          "output_type": "stream",
          "name": "stdout",
          "text": [
            "Epoch 1/6\n",
            "750/750 [==============================] - 37s 49ms/step - loss: 0.0200 - accuracy: 0.9935 - val_loss: 0.0448 - val_accuracy: 0.9877\n",
            "Epoch 2/6\n",
            "750/750 [==============================] - 41s 54ms/step - loss: 0.0151 - accuracy: 0.9950 - val_loss: 0.0399 - val_accuracy: 0.9902\n",
            "Epoch 3/6\n",
            "750/750 [==============================] - 40s 53ms/step - loss: 0.0124 - accuracy: 0.9961 - val_loss: 0.0460 - val_accuracy: 0.9870\n",
            "Epoch 4/6\n",
            "750/750 [==============================] - 42s 55ms/step - loss: 0.0102 - accuracy: 0.9965 - val_loss: 0.0500 - val_accuracy: 0.9877\n",
            "Epoch 5/6\n",
            "750/750 [==============================] - 39s 52ms/step - loss: 0.0097 - accuracy: 0.9967 - val_loss: 0.0453 - val_accuracy: 0.9894\n",
            "Epoch 6/6\n",
            "750/750 [==============================] - 37s 50ms/step - loss: 0.0079 - accuracy: 0.9972 - val_loss: 0.0542 - val_accuracy: 0.9872\n"
          ]
        },
        {
          "output_type": "execute_result",
          "data": {
            "text/plain": [
              "<keras.src.callbacks.History at 0x7a12727173a0>"
            ]
          },
          "metadata": {},
          "execution_count": 16
        }
      ]
    },
    {
      "cell_type": "code",
      "source": [
        "# 5 predicciones\n",
        "predictions = model.predict(test_data[:5])\n",
        "predicted_labels = np.argmax(predictions, axis=1)\n",
        "true_labels = np.argmax(test_labels[:5], axis=1)\n",
        "\n",
        "print(\"Predicciones realizadas:\")\n",
        "for i in range(5):\n",
        "    print(\"Predicción:\", predicted_labels[i], \"| Valor real:\", true_labels[i])\n"
      ],
      "metadata": {
        "colab": {
          "base_uri": "https://localhost:8080/"
        },
        "id": "dajjKEm9NYV4",
        "outputId": "655a8e3c-9647-421a-8912-99adb09edb42"
      },
      "execution_count": null,
      "outputs": [
        {
          "output_type": "stream",
          "name": "stdout",
          "text": [
            "1/1 [==============================] - 0s 24ms/step\n",
            "Predicciones realizadas:\n",
            "Predicción: 7 | Valor real: 7\n",
            "Predicción: 2 | Valor real: 2\n",
            "Predicción: 1 | Valor real: 1\n",
            "Predicción: 0 | Valor real: 0\n",
            "Predicción: 4 | Valor real: 4\n"
          ]
        }
      ]
    },
    {
      "cell_type": "markdown",
      "source": [
        "### ¿Cuántas épocas usaste para mejorar el rendimiento del modelo en comparación con la red neuronal prealimentada de la actividad 5?\n",
        "\n",
        "Se utilizo 6 épocas en esta actividad para el entrenamiento, para la actividad 5, el modelo de red neuronal se entrenó durante 5 épocas.\n",
        "\n",
        "### ¿Obtuviste un mejor rendimiento con este modelo o con el de la actividad 5? ¿Por qué?\n",
        "\n",
        "El modelo de la actividad 5 utiliza una red neuronal prealimentada estándar, mientras que el modelo en esta actividad utiliza una red neuronal convolucional las cuales son especialmente útiles para tareas de visión por computadora, como el reconocimiento de imágenes, debido a su capacidad para capturar patrones espaciales locales en los datos de entrada. Dado que el conjunto de datos MNIST consiste en imágenes de dígitos escritos a mano. Se pudo obtener mejor rendimiento que el modelo de la actividad 5."
      ],
      "metadata": {
        "id": "mADbrbyvaaxv"
      }
    }
  ]
}